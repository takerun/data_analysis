{
 "cells": [
  {
   "cell_type": "code",
   "execution_count": 1,
   "metadata": {
    "collapsed": true
   },
   "outputs": [],
   "source": [
    "import numpy as np\n",
    "import pandas as pd\n",
    "import matplotlib.pyplot as plt\n",
    "\n",
    "TRAIN_TARGET = \"../future-temparture-prediction/Temperature_Train_Target.dat.tsv\""
   ]
  },
  {
   "cell_type": "code",
   "execution_count": 2,
   "metadata": {
    "collapsed": false
   },
   "outputs": [],
   "source": [
    "%run ../script/prepocessing.py\n",
    "Train = TemperatureData('train')\n",
    "y = np.loadtxt(TRAIN_TARGET)"
   ]
  },
  {
   "cell_type": "code",
   "execution_count": 3,
   "metadata": {
    "collapsed": false
   },
   "outputs": [],
   "source": [
    "tempers = Train.temperWVecMean()"
   ]
  },
  {
   "cell_type": "code",
   "execution_count": 4,
   "metadata": {
    "collapsed": false
   },
   "outputs": [
    {
     "data": {
      "text/plain": [
       "(1800, 11)"
      ]
     },
     "execution_count": 4,
     "metadata": {},
     "output_type": "execute_result"
    }
   ],
   "source": [
    "tempers.shape"
   ]
  },
  {
   "cell_type": "markdown",
   "metadata": {},
   "source": [
    "年の切れ目359, 719, 1079, 1439, 1799を無視する。"
   ]
  },
  {
   "cell_type": "code",
   "execution_count": 5,
   "metadata": {
    "collapsed": true
   },
   "outputs": [],
   "source": [
    "edges = [359, 719, 1079, 1439, 1799]"
   ]
  },
  {
   "cell_type": "code",
   "execution_count": 6,
   "metadata": {
    "collapsed": false
   },
   "outputs": [
    {
     "data": {
      "text/plain": [
       "[164, 164, 164, 164, 164, 162, 164, 164, 164, 163, 163]"
      ]
     },
     "execution_count": 6,
     "metadata": {},
     "output_type": "execute_result"
    }
   ],
   "source": [
    "[len(Train.TemperPlaceId[i]) for i in xrange(11)]"
   ]
  },
  {
   "cell_type": "code",
   "execution_count": 7,
   "metadata": {
    "collapsed": false,
    "scrolled": true
   },
   "outputs": [],
   "source": [
    "tempers_place = dict()\n",
    "learnig_id = dict()\n",
    "drop_list = list()\n",
    "for i in xrange(11):\n",
    "    drop_flag = False\n",
    "    for edge in edges:\n",
    "        if edge in Train.TemperPlaceId[i]:\n",
    "            a = list(Train.TemperPlaceId[i])\n",
    "            index = a.index([edge])\n",
    "            drop_list.append([i,index])\n",
    "            ls = list(Train.TemperPlaceId[i])\n",
    "            ls.pop(index)\n",
    "            tempers_place[i] = tempers[ls]\n",
    "            learnig_id[i] = ls\n",
    "            drop_flag = True\n",
    "            break\n",
    "    if not drop_flag:\n",
    "        ls = list(Train.TemperPlaceId[i])\n",
    "        tempers_place[i] = tempers[ls]\n",
    "        learnig_id[i] = ls"
   ]
  },
  {
   "cell_type": "code",
   "execution_count": 8,
   "metadata": {
    "collapsed": false
   },
   "outputs": [
    {
     "data": {
      "text/plain": [
       "[163, 163, 164, 164, 163, 162, 164, 163, 163, 163, 163]"
      ]
     },
     "execution_count": 8,
     "metadata": {},
     "output_type": "execute_result"
    }
   ],
   "source": [
    "[len(tempers_place[i]) for i in xrange(11)]"
   ]
  },
  {
   "cell_type": "code",
   "execution_count": 9,
   "metadata": {
    "collapsed": false
   },
   "outputs": [
    {
     "data": {
      "text/plain": [
       "[[0, 131], [1, 98], [4, 65], [7, 32], [8, 163]]"
      ]
     },
     "execution_count": 9,
     "metadata": {},
     "output_type": "execute_result"
    }
   ],
   "source": [
    "drop_list"
   ]
  },
  {
   "cell_type": "code",
   "execution_count": 10,
   "metadata": {
    "collapsed": false
   },
   "outputs": [
    {
     "name": "stdout",
     "output_type": "stream",
     "text": [
      "1439\n",
      "1079\n",
      "719\n",
      "359\n",
      "1799\n"
     ]
    }
   ],
   "source": [
    "for i in xrange(len(drop_list)):\n",
    "    print Train.TemperPlaceId[drop_list[i][0]][drop_list[i][1]]"
   ]
  },
  {
   "cell_type": "markdown",
   "metadata": {},
   "source": [
    "each_place learning"
   ]
  },
  {
   "cell_type": "code",
   "execution_count": 11,
   "metadata": {
    "collapsed": false
   },
   "outputs": [],
   "source": [
    "supervisers = [y[learnig_id[i]] for i in xrange(11)]"
   ]
  },
  {
   "cell_type": "code",
   "execution_count": 12,
   "metadata": {
    "collapsed": true
   },
   "outputs": [],
   "source": [
    "from sklearn.linear_model import Ridge\n",
    "from sklearn.metrics import mean_squared_error\n",
    "from sklearn import grid_search\n",
    "parameters = {'alpha':[float(i)/100 for i in xrange(0,101)]}\n",
    "clf = [grid_search.GridSearchCV(Ridge(), parameters, cv=10, scoring='mean_squared_error') for i in xrange(11)]"
   ]
  },
  {
   "cell_type": "code",
   "execution_count": 13,
   "metadata": {
    "collapsed": false,
    "scrolled": true
   },
   "outputs": [
    {
     "name": "stdout",
     "output_type": "stream",
     "text": [
      "0\n",
      "[ 0.73925205  0.00831007  0.07760923 -0.11496033 -0.14845264  0.14958621\n",
      "  0.10606897  0.08888672 -0.01108878  0.02491205  0.02470168]\n",
      "1\n",
      "[-0.02625402  0.81890899  0.14664959 -0.01119781 -0.01061256  0.01337498\n",
      "  0.0416254  -0.05722061  0.01678903  0.07483866  0.02078398]\n",
      "2\n",
      "[ 0.05192627  0.08509273  0.80875213 -0.01029769 -0.03275557  0.06163761\n",
      "  0.01784571 -0.09905704  0.06412852  0.06199866 -0.01105413]\n",
      "3\n",
      "[ 0.17358115 -0.03009986  0.03101626  0.81043239  0.0643825  -0.01211051\n",
      "  0.06929736 -0.1113946  -0.05138908 -0.0458437  -0.01388901]\n",
      "4\n",
      "[-0.03544525 -0.02046994 -0.02838198  0.02536318  0.75139797  0.29822392\n",
      " -0.00171048  0.02204578  0.00431965  0.02310748  0.01052007]\n",
      "5\n",
      "[-0.14809534 -0.14381326  0.1456384   0.05630641  0.1263742   0.94660658\n",
      " -0.05015703  0.00404385  0.00886697  0.14951101 -0.00694425]\n",
      "6\n",
      "[ 0.00647589 -0.0544007   0.11597037  0.05441384 -0.02948761  0.10344106\n",
      "  0.67032077  0.17864986  0.09809684  0.06648278 -0.07664391]\n",
      "7\n",
      "[ 0.11152984 -0.05489807 -0.03597372 -0.08907008  0.04482471  0.00772709\n",
      "  0.08291502  0.79594944  0.06380633  0.02724107 -0.00152701]\n",
      "8\n",
      "[ 0.21631808 -0.02084909  0.04789955  0.0249662  -0.00745845  0.00161157\n",
      " -0.02131107  0.01741809  0.85734094  0.01944489 -0.02559022]\n",
      "9\n",
      "[ 0.05172466  0.05002804 -0.02594174  0.08739752  0.02279343 -0.04271724\n",
      "  0.03649934 -0.13076945  0.11420149  0.87384125 -0.00096821]\n",
      "10\n",
      "[ -6.52174119e-02  -5.97882710e-02   1.46717268e-04   1.56840372e-02\n",
      "   5.11708723e-02  -2.89317986e-02   2.85301848e-02  -3.51065721e-02\n",
      "  -2.48765866e-02   1.84044370e-01   9.23154946e-01]\n"
     ]
    }
   ],
   "source": [
    "for i in xrange(11):\n",
    "    print i\n",
    "    clf[i].fit(tempers_place[i], supervisers[i])\n",
    "    print clf[i].predict(np.identity(11))"
   ]
  },
  {
   "cell_type": "code",
   "execution_count": 14,
   "metadata": {
    "collapsed": false
   },
   "outputs": [
    {
     "name": "stdout",
     "output_type": "stream",
     "text": [
      "0 : -0.000362130561095\n",
      "1 : -0.000205921770629\n",
      "2 : -0.000258223690464\n",
      "3 : -0.000300647521563\n",
      "4 : -0.00018345738362\n",
      "5 : -0.000194744154298\n",
      "6 : -0.000280869673447\n",
      "7 : -0.000204093226766\n",
      "8 : -0.000352471754087\n",
      "9 : -0.000322927543143\n",
      "10 : -0.000276430826343\n"
     ]
    }
   ],
   "source": [
    "for i in xrange(11):\n",
    "    print i, \":\", clf[i].best_score_"
   ]
  },
  {
   "cell_type": "code",
   "execution_count": 15,
   "metadata": {
    "collapsed": false
   },
   "outputs": [
    {
     "name": "stdout",
     "output_type": "stream",
     "text": [
      "0.0163538099688\n"
     ]
    }
   ],
   "source": [
    "s = 0\n",
    "for i in xrange(11):\n",
    "    s += -1 * clf[i].best_score_\n",
    "import math\n",
    "print math.sqrt(s/11.0)"
   ]
  },
  {
   "cell_type": "markdown",
   "metadata": {},
   "source": [
    "fit test data"
   ]
  },
  {
   "cell_type": "code",
   "execution_count": 16,
   "metadata": {
    "collapsed": true
   },
   "outputs": [],
   "source": [
    "Test = TemperatureData('test')\n",
    "tstempers = Test.temperWVecMean()"
   ]
  },
  {
   "cell_type": "code",
   "execution_count": 21,
   "metadata": {
    "collapsed": false
   },
   "outputs": [],
   "source": [
    "tstempers_place = dict()\n",
    "tslearnig_id = dict()\n",
    "for i in xrange(11):\n",
    "    ls = list(Test.TemperPlaceId[i])\n",
    "    tstempers_place[i] = tstempers[ls]\n",
    "    tslearnig_id[i] = ls"
   ]
  },
  {
   "cell_type": "code",
   "execution_count": 22,
   "metadata": {
    "collapsed": false
   },
   "outputs": [
    {
     "name": "stdout",
     "output_type": "stream",
     "text": [
      "0\n",
      "1\n",
      "2\n",
      "3\n",
      "4\n",
      "5\n",
      "6\n",
      "7\n",
      "8\n",
      "9\n",
      "10\n"
     ]
    }
   ],
   "source": [
    "result = np.zeros((len(Test.temperVec()),))\n",
    "for i in xrange(11):\n",
    "    print i\n",
    "    result[tslearnig_id[i]] = clf[i].predict(tstempers_place[i])"
   ]
  },
  {
   "cell_type": "code",
   "execution_count": 23,
   "metadata": {
    "collapsed": true
   },
   "outputs": [],
   "source": [
    "np.savetxt(\"../result/sub.dat\", result, fmt='%.10f')"
   ]
  },
  {
   "cell_type": "code",
   "execution_count": 17,
   "metadata": {
    "collapsed": false
   },
   "outputs": [
    {
     "data": {
      "text/plain": [
       "[164, 164, 164, 164, 164, 164, 164, 163, 163, 163, 163]"
      ]
     },
     "execution_count": 17,
     "metadata": {},
     "output_type": "execute_result"
    }
   ],
   "source": [
    "[len(Test.TemperPlaceId[i]) for i in xrange(11)]"
   ]
  },
  {
   "cell_type": "code",
   "execution_count": 25,
   "metadata": {
    "collapsed": true
   },
   "outputs": [],
   "source": [
    "tstempers_place = dict()\n",
    "tslearnig_id = dict()\n",
    "tsdrop_list = list()\n",
    "for i in xrange(11):\n",
    "    drop_flag = False\n",
    "    for edge in edges:\n",
    "        if edge in Test.TemperPlaceId[i]:\n",
    "            a = list(Test.TemperPlaceId[i])\n",
    "            index = a.index([edge])\n",
    "            tsdrop_list.append([i,index])\n",
    "            ls = list(Test.TemperPlaceId[i])\n",
    "            ls.pop(index)\n",
    "            tstempers_place[i] = tstempers[ls]\n",
    "            tslearnig_id[i] = ls\n",
    "            drop_flag = True\n",
    "            break\n",
    "    if not drop_flag:\n",
    "        ls = list(Test.TemperPlaceId[i])\n",
    "        tstempers_place[i] = tstempers[ls]\n",
    "        tslearnig_id[i] = ls"
   ]
  },
  {
   "cell_type": "code",
   "execution_count": 26,
   "metadata": {
    "collapsed": false
   },
   "outputs": [
    {
     "data": {
      "text/plain": [
       "[164, 163, 164, 164, 163, 164, 163, 162, 163, 162, 163]"
      ]
     },
     "execution_count": 26,
     "metadata": {},
     "output_type": "execute_result"
    }
   ],
   "source": [
    "[len(tstempers_place[i]) for i in xrange(11)]"
   ]
  },
  {
   "cell_type": "code",
   "execution_count": 27,
   "metadata": {
    "collapsed": false
   },
   "outputs": [
    {
     "data": {
      "text/plain": [
       "[164, 163, 164, 164, 163, 164, 163, 162, 163, 162, 163]"
      ]
     },
     "execution_count": 27,
     "metadata": {},
     "output_type": "execute_result"
    }
   ],
   "source": [
    "[len(tslearnig_id[i]) for i in xrange(11)]"
   ]
  },
  {
   "cell_type": "code",
   "execution_count": 28,
   "metadata": {
    "collapsed": false,
    "scrolled": true
   },
   "outputs": [
    {
     "name": "stdout",
     "output_type": "stream",
     "text": [
      "0\n",
      "1\n",
      "2\n",
      "3\n",
      "4\n",
      "5\n",
      "6\n",
      "7\n",
      "8\n",
      "9\n",
      "10\n"
     ]
    }
   ],
   "source": [
    "result = np.zeros((len(Test.temperVec()),))\n",
    "for i in xrange(11):\n",
    "    print i\n",
    "    result[tslearnig_id[i]] = clf[i].predict(tstempers_place[i])"
   ]
  },
  {
   "cell_type": "code",
   "execution_count": 29,
   "metadata": {
    "collapsed": false
   },
   "outputs": [
    {
     "data": {
      "text/plain": [
       "0.090861053295334199"
      ]
     },
     "execution_count": 29,
     "metadata": {},
     "output_type": "execute_result"
    }
   ],
   "source": [
    "result[360]"
   ]
  },
  {
   "cell_type": "code",
   "execution_count": 30,
   "metadata": {
    "collapsed": true
   },
   "outputs": [],
   "source": [
    "tsp_result = np.loadtxt(\"../result/eachPlace_0.03083.dat\")"
   ]
  },
  {
   "cell_type": "code",
   "execution_count": 31,
   "metadata": {
    "collapsed": false
   },
   "outputs": [
    {
     "data": {
      "text/plain": [
       "-0.12392710630000001"
      ]
     },
     "execution_count": 31,
     "metadata": {},
     "output_type": "execute_result"
    }
   ],
   "source": [
    "tsp_result[359]"
   ]
  },
  {
   "cell_type": "code",
   "execution_count": 32,
   "metadata": {
    "collapsed": true
   },
   "outputs": [],
   "source": [
    "for edge in edges:\n",
    "    result[edge] = tsp_result[edge] "
   ]
  },
  {
   "cell_type": "code",
   "execution_count": 33,
   "metadata": {
    "collapsed": true
   },
   "outputs": [],
   "source": [
    "np.savetxt(\"../result/sub.dat\", result, fmt='%.10f')"
   ]
  },
  {
   "cell_type": "code",
   "execution_count": null,
   "metadata": {
    "collapsed": true
   },
   "outputs": [],
   "source": []
  },
  {
   "cell_type": "code",
   "execution_count": 36,
   "metadata": {
    "collapsed": false
   },
   "outputs": [
    {
     "data": {
      "text/plain": [
       "0.25494819229527271"
      ]
     },
     "execution_count": 36,
     "metadata": {},
     "output_type": "execute_result"
    }
   ],
   "source": [
    "result[4]"
   ]
  },
  {
   "cell_type": "code",
   "execution_count": 30,
   "metadata": {
    "collapsed": false
   },
   "outputs": [
    {
     "data": {
      "text/plain": [
       "[359, 719, 1079, 1439, 1799]"
      ]
     },
     "execution_count": 30,
     "metadata": {},
     "output_type": "execute_result"
    }
   ],
   "source": [
    "edges"
   ]
  },
  {
   "cell_type": "markdown",
   "metadata": {},
   "source": [
    "## making preprocessing (temperWVec) to change before-after-data"
   ]
  },
  {
   "cell_type": "code",
   "execution_count": 263,
   "metadata": {
    "collapsed": false
   },
   "outputs": [],
   "source": [
    "yearnum = 5\n",
    "placenum = len(Train.TemperPlaceId)\n",
    "datasize_year = 360\n",
    "stk = np.array([])\n",
    "for n in xrange(yearnum):\n",
    "    start = datasize_year*n\n",
    "    end = datasize_year*(n+1) -1\n",
    "    tempers_year = Train.Temperature.loc[start:end,  ['place%d' % i for i in xrange(placenum)]].values\n",
    "    for i in xrange(datasize_year-1):\n",
    "        vec = np.r_[tempers_year[i],tempers_year[i+1]]\n",
    "        stk = np.append(stk, vec)\n",
    "    last = np.append(tempers_year[datasize_year-1],np.zeros((placenum)))\n",
    "    stk = np.append(stk, last)\n",
    "result = stk.reshape(datasize_year*5, placenum*2)"
   ]
  },
  {
   "cell_type": "code",
   "execution_count": 274,
   "metadata": {
    "collapsed": false
   },
   "outputs": [
    {
     "data": {
      "text/plain": [
       "(array([-0.183283, -0.183283, -0.211585, -0.243032, -0.132969, -0.192717,\n",
       "        -0.085799, -0.098378, -0.123535, -0.170705, -0.189573,  0.      ,\n",
       "         0.      ,  0.      ,  0.      ,  0.      ,  0.      ,  0.      ,\n",
       "         0.      ,  0.      ,  0.      ,  0.      ]),\n",
       " array([-0.199007, -0.195862, -0.2619  , -0.25561 , -0.158126, -0.224164,\n",
       "        -0.117246, -0.098378, -0.110956, -0.224164, -0.236742,  0.      ,\n",
       "         0.      ,  0.      ,  0.      ,  0.      ,  0.      ,  0.      ,\n",
       "         0.      ,  0.      ,  0.      ,  0.      ]),\n",
       " array([-0.16756 , -0.208441, -0.21473 , -0.202151, -0.16756 , -0.170705,\n",
       "        -0.117246, -0.129824, -0.151837, -0.173849, -0.217874,  0.      ,\n",
       "         0.      ,  0.      ,  0.      ,  0.      ,  0.      ,  0.      ,\n",
       "         0.      ,  0.      ,  0.      ,  0.      ]),\n",
       " array([-0.148692, -0.161271, -0.173849, -0.180139, -0.145547, -0.151837,\n",
       "        -0.136113, -0.132969, -0.129824, -0.151837, -0.180139,  0.      ,\n",
       "         0.      ,  0.      ,  0.      ,  0.      ,  0.      ,  0.      ,\n",
       "         0.      ,  0.      ,  0.      ,  0.      ]),\n",
       " array([-0.076365, -0.12039 , -0.12039 , -0.129824, -0.098378, -0.098378,\n",
       "        -0.076365, -0.048063, -0.066931, -0.095233, -0.148692,  0.      ,\n",
       "         0.      ,  0.      ,  0.      ,  0.      ,  0.      ,  0.      ,\n",
       "         0.      ,  0.      ,  0.      ,  0.      ]))"
      ]
     },
     "execution_count": 274,
     "metadata": {},
     "output_type": "execute_result"
    }
   ],
   "source": [
    "result[359], result[719], result[1079],result[1439], result[1799]"
   ]
  }
 ],
 "metadata": {
  "kernelspec": {
   "display_name": "Python 2",
   "language": "python",
   "name": "python2"
  },
  "language_info": {
   "codemirror_mode": {
    "name": "ipython",
    "version": 2
   },
   "file_extension": ".py",
   "mimetype": "text/x-python",
   "name": "python",
   "nbconvert_exporter": "python",
   "pygments_lexer": "ipython2",
   "version": "2.7.9"
  }
 },
 "nbformat": 4,
 "nbformat_minor": 0
}
