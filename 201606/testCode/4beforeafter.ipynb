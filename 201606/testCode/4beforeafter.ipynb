{
 "cells": [
  {
   "cell_type": "code",
   "execution_count": 1,
   "metadata": {
    "collapsed": true
   },
   "outputs": [],
   "source": [
    "import numpy as np\n",
    "import pandas as pd\n",
    "import matplotlib.pyplot as plt\n",
    "\n",
    "TRAIN_TARGET = \"../future-temparture-prediction/Temperature_Train_Target.dat.tsv\""
   ]
  },
  {
   "cell_type": "code",
   "execution_count": 2,
   "metadata": {
    "collapsed": true
   },
   "outputs": [],
   "source": [
    "%run ../script/prepocessing.py\n",
    "Train = TemperatureData('train')\n",
    "y = np.loadtxt(TRAIN_TARGET)"
   ]
  },
  {
   "cell_type": "code",
   "execution_count": 3,
   "metadata": {
    "collapsed": false
   },
   "outputs": [],
   "source": [
    "tempers = Train.temperWVec()"
   ]
  },
  {
   "cell_type": "code",
   "execution_count": 4,
   "metadata": {
    "collapsed": false
   },
   "outputs": [
    {
     "data": {
      "text/plain": [
       "(1800, 22)"
      ]
     },
     "execution_count": 4,
     "metadata": {},
     "output_type": "execute_result"
    }
   ],
   "source": [
    "tempers.shape"
   ]
  },
  {
   "cell_type": "markdown",
   "metadata": {},
   "source": [
    "年の切れ目359, 719, 1079, 1439, 1799を無視する。"
   ]
  },
  {
   "cell_type": "code",
   "execution_count": 5,
   "metadata": {
    "collapsed": true
   },
   "outputs": [],
   "source": [
    "edges = [359, 719, 1079, 1439, 1799]"
   ]
  },
  {
   "cell_type": "code",
   "execution_count": 6,
   "metadata": {
    "collapsed": false
   },
   "outputs": [
    {
     "data": {
      "text/plain": [
       "[164, 164, 164, 164, 164, 162, 164, 164, 164, 163, 163]"
      ]
     },
     "execution_count": 6,
     "metadata": {},
     "output_type": "execute_result"
    }
   ],
   "source": [
    "[len(Train.TemperPlaceId[i]) for i in xrange(11)]"
   ]
  },
  {
   "cell_type": "code",
   "execution_count": 7,
   "metadata": {
    "collapsed": false,
    "scrolled": true
   },
   "outputs": [],
   "source": [
    "tempers_place = dict()\n",
    "learnig_id = dict()\n",
    "drop_list = list()\n",
    "for i in xrange(11):\n",
    "    drop_flag = False\n",
    "    for edge in edges:\n",
    "        if edge in Train.TemperPlaceId[i]:\n",
    "            a = list(Train.TemperPlaceId[i])\n",
    "            index = a.index([edge])\n",
    "            drop_list.append([i,index])\n",
    "            ls = list(Train.TemperPlaceId[i])\n",
    "            ls.pop(index)\n",
    "            tempers_place[i] = tempers[ls]\n",
    "            learnig_id[i] = ls\n",
    "            drop_flag = True\n",
    "            break\n",
    "    if not drop_flag:\n",
    "        ls = list(Train.TemperPlaceId[i])\n",
    "        tempers_place[i] = tempers[ls]\n",
    "        learnig_id[i] = ls"
   ]
  },
  {
   "cell_type": "code",
   "execution_count": 8,
   "metadata": {
    "collapsed": false
   },
   "outputs": [
    {
     "data": {
      "text/plain": [
       "[163, 163, 164, 164, 163, 162, 164, 163, 163, 163, 163]"
      ]
     },
     "execution_count": 8,
     "metadata": {},
     "output_type": "execute_result"
    }
   ],
   "source": [
    "[len(tempers_place[i]) for i in xrange(11)]"
   ]
  },
  {
   "cell_type": "code",
   "execution_count": 9,
   "metadata": {
    "collapsed": false
   },
   "outputs": [
    {
     "data": {
      "text/plain": [
       "[[7, 32], [4, 65], [1, 98], [0, 131], [8, 163]]"
      ]
     },
     "execution_count": 9,
     "metadata": {},
     "output_type": "execute_result"
    }
   ],
   "source": [
    "drop_list"
   ]
  },
  {
   "cell_type": "code",
   "execution_count": 11,
   "metadata": {
    "collapsed": false
   },
   "outputs": [
    {
     "name": "stdout",
     "output_type": "stream",
     "text": [
      "359\n",
      "719\n",
      "1079\n",
      "1439\n",
      "1799\n"
     ]
    }
   ],
   "source": [
    "for i in xrange(len(drop_list)):\n",
    "    print Train.TemperPlaceId[drop_list[i][0]][drop_list[i][1]]"
   ]
  },
  {
   "cell_type": "markdown",
   "metadata": {},
   "source": [
    "each_place learning"
   ]
  },
  {
   "cell_type": "code",
   "execution_count": 9,
   "metadata": {
    "collapsed": false
   },
   "outputs": [],
   "source": [
    "supervisers = [y[learnig_id[i]] for i in xrange(11)]"
   ]
  },
  {
   "cell_type": "code",
   "execution_count": 10,
   "metadata": {
    "collapsed": true
   },
   "outputs": [],
   "source": [
    "from sklearn.linear_model import Ridge\n",
    "from sklearn.metrics import mean_squared_error\n",
    "from sklearn import grid_search\n",
    "parameters = {'alpha':[float(i)/100 for i in xrange(0,101)]}\n",
    "clf = [grid_search.GridSearchCV(Ridge(), parameters, cv=10, scoring='mean_squared_error') for i in xrange(11)]"
   ]
  },
  {
   "cell_type": "code",
   "execution_count": 11,
   "metadata": {
    "collapsed": false,
    "scrolled": true
   },
   "outputs": [
    {
     "name": "stdout",
     "output_type": "stream",
     "text": [
      "0\n",
      "[ 0.42244013  0.04907621  0.11503868  0.00850473 -0.08231613 -0.00742078\n",
      "  0.07314621 -0.08007749  0.09489984  0.05388096 -0.02346962  0.22260585\n",
      " -0.01411328  0.04132478 -0.00805143 -0.01729117  0.08793475  0.06816017\n",
      "  0.0518995  -0.01799516 -0.04544639  0.03870519]\n",
      "1\n",
      "[ 0.04721677  0.35105789  0.05994034 -0.02163817 -0.02628091 -0.0038059\n",
      "  0.03109671  0.01781669  0.01112758 -0.01209421  0.07624911 -0.04335166\n",
      "  0.40143211  0.11506852  0.00139949  0.02280065  0.02305739 -0.00290698\n",
      " -0.04137142 -0.00773427  0.09260722 -0.01550594]\n",
      "2\n",
      "[-0.01465774  0.0656417   0.33275707 -0.08238039 -0.04256833  0.03198414\n",
      "  0.02023573 -0.03243166  0.11241701  0.03790777 -0.04040163  0.11778186\n",
      "  0.00812366  0.43438416  0.00737832  0.02343474  0.03347489 -0.02898028\n",
      " -0.03581495 -0.10401314  0.01596882  0.03310492]\n",
      "3\n",
      "[-0.08349367 -0.04375013  0.00313135  0.29430457 -0.00755121  0.00474556\n",
      "  0.09298361 -0.00650646  0.00298246 -0.03570142 -0.02161346  0.27123433\n",
      " -0.02648713 -0.00415821  0.39232056  0.07402741 -0.00610874 -0.11093934\n",
      " -0.03440118 -0.10238825  0.00204996 -0.05611374]\n",
      "4\n",
      "[ -8.45148720e-02   1.23489503e-02   1.55636931e-02   8.35715530e-02\n",
      "   3.26899260e-01   2.11473938e-01   1.19299741e-02   5.06211990e-02\n",
      "   5.93272990e-02  -1.07911579e-04  -4.71152087e-02   4.39084235e-02\n",
      "  -8.28899089e-03  -3.07010155e-02  -2.08945707e-03   4.11898214e-01\n",
      "   8.04804978e-02   2.22100365e-02  -4.59996751e-02  -2.81794547e-02\n",
      "   4.81997123e-03   8.67773932e-02]\n",
      "5\n",
      "[-0.12281822 -0.05192301  0.09452495  0.10711999  0.00233015  0.34939856\n",
      "  0.04841076 -0.05070176  0.02987918  0.12877351 -0.0051881   0.06188626\n",
      " -0.06102617  0.01906921 -0.07268241  0.17931188  0.47138863 -0.06271951\n",
      "  0.0194347  -0.01953426 -0.0119116   0.00823351]\n",
      "6\n",
      "[-0.01814453  0.02625199  0.09297706  0.04648432  0.00916861 -0.01756641\n",
      "  0.33496195  0.08445933  0.08747834 -0.04554135 -0.08962341  0.04383128\n",
      " -0.09580921 -0.01353515 -0.03744734  0.00927525  0.12657776  0.30792521\n",
      "  0.10847259  0.00053514  0.16412737 -0.01078094]\n",
      "7\n",
      "[-0.0080641  -0.04413661  0.00367105 -0.02832968  0.01202895  0.00559094\n",
      "  0.08591305  0.45008811  0.06426496  0.02595609 -0.02049853  0.10407345\n",
      "  0.00727896 -0.01687189 -0.02809113 -0.00319375  0.02265052  0.02779573\n",
      "  0.31111862  0.00888364 -0.01111037  0.02270202]\n",
      "8\n",
      "[ 0.05031973  0.02455877  0.0916518   0.0438732   0.05560649 -0.01043036\n",
      " -0.03169332 -0.03686518  0.4190434  -0.01976323 -0.04151651  0.16837175\n",
      " -0.02745972 -0.07872686 -0.00188364 -0.04330153  0.00960954  0.01837442\n",
      "  0.11074699  0.38200416  0.06365423  0.02456617]\n",
      "9\n",
      "[ 0.06819307  0.02924165  0.01208771  0.09852315  0.00715917 -0.11302504\n",
      "  0.06387687 -0.01277728  0.00657902  0.27652033  0.05987523  0.02955313\n",
      "  0.02448675 -0.04364063 -0.05045034  0.00870336  0.10418183 -0.0498994\n",
      " -0.03895675  0.07992136  0.45074519  0.02781749]\n",
      "10\n",
      "[ -4.06332132e-02  -4.31706011e-02   2.52067825e-02   7.42908736e-02\n",
      "  -3.47674976e-03  -1.41250881e-02   3.34356117e-02  -1.01304498e-02\n",
      "   2.24553851e-02   3.33482545e-02   3.29874609e-01  -4.71837334e-02\n",
      "   3.39130889e-02  -7.67321108e-02  -5.46309950e-02   3.17611031e-02\n",
      "   7.08175721e-05  -2.59844762e-02  -1.63716258e-03  -6.87173543e-02\n",
      "   1.84578519e-01   4.91453868e-01]\n"
     ]
    }
   ],
   "source": [
    "for i in xrange(11):\n",
    "    print i\n",
    "    clf[i].fit(tempers_place[i], supervisers[i])\n",
    "    print clf[i].predict(np.identity(22))"
   ]
  },
  {
   "cell_type": "code",
   "execution_count": 12,
   "metadata": {
    "collapsed": false
   },
   "outputs": [
    {
     "name": "stdout",
     "output_type": "stream",
     "text": [
      "0 : -0.000366063596044\n",
      "1 : -0.00023182582692\n",
      "2 : -0.000267030052042\n",
      "3 : -0.00028002031198\n",
      "4 : -0.000186140405882\n",
      "5 : -0.000195277264757\n",
      "6 : -0.000263672406855\n",
      "7 : -0.00021911525987\n",
      "8 : -0.000356943082221\n",
      "9 : -0.000332649654028\n",
      "10 : -0.000278195887118\n"
     ]
    }
   ],
   "source": [
    "for i in xrange(11):\n",
    "    print i, \":\", clf[i].best_score_"
   ]
  },
  {
   "cell_type": "code",
   "execution_count": 13,
   "metadata": {
    "collapsed": false
   },
   "outputs": [
    {
     "name": "stdout",
     "output_type": "stream",
     "text": [
      "0.0164508462002\n"
     ]
    }
   ],
   "source": [
    "s = 0\n",
    "for i in xrange(11):\n",
    "    s += -1 * clf[i].best_score_\n",
    "import math\n",
    "print math.sqrt(s/11.0)"
   ]
  },
  {
   "cell_type": "markdown",
   "metadata": {},
   "source": [
    "fit test data"
   ]
  },
  {
   "cell_type": "code",
   "execution_count": 14,
   "metadata": {
    "collapsed": true
   },
   "outputs": [],
   "source": [
    "Test = TemperatureData('test')\n",
    "tstempers = Test.temperWVec()"
   ]
  },
  {
   "cell_type": "code",
   "execution_count": 15,
   "metadata": {
    "collapsed": false
   },
   "outputs": [
    {
     "data": {
      "text/plain": [
       "[164, 164, 164, 164, 164, 164, 164, 163, 163, 163, 163]"
      ]
     },
     "execution_count": 15,
     "metadata": {},
     "output_type": "execute_result"
    }
   ],
   "source": [
    "[len(Test.TemperPlaceId[i]) for i in xrange(11)]"
   ]
  },
  {
   "cell_type": "code",
   "execution_count": 16,
   "metadata": {
    "collapsed": true
   },
   "outputs": [],
   "source": [
    "tstempers_place = dict()\n",
    "tslearnig_id = dict()\n",
    "tsdrop_list = list()\n",
    "for i in xrange(11):\n",
    "    drop_flag = False\n",
    "    for edge in edges:\n",
    "        if edge in Test.TemperPlaceId[i]:\n",
    "            a = list(Test.TemperPlaceId[i])\n",
    "            index = a.index([edge])\n",
    "            tsdrop_list.append([i,index])\n",
    "            ls = list(Test.TemperPlaceId[i])\n",
    "            ls.pop(index)\n",
    "            tstempers_place[i] = tstempers[ls]\n",
    "            tslearnig_id[i] = ls\n",
    "            drop_flag = True\n",
    "            break\n",
    "    if not drop_flag:\n",
    "        ls = list(Test.TemperPlaceId[i])\n",
    "        tstempers_place[i] = tstempers[ls]\n",
    "        tslearnig_id[i] = ls"
   ]
  },
  {
   "cell_type": "code",
   "execution_count": 17,
   "metadata": {
    "collapsed": false
   },
   "outputs": [
    {
     "data": {
      "text/plain": [
       "[164, 163, 164, 164, 163, 164, 163, 162, 163, 162, 163]"
      ]
     },
     "execution_count": 17,
     "metadata": {},
     "output_type": "execute_result"
    }
   ],
   "source": [
    "[len(tstempers_place[i]) for i in xrange(11)]"
   ]
  },
  {
   "cell_type": "code",
   "execution_count": 18,
   "metadata": {
    "collapsed": false
   },
   "outputs": [
    {
     "data": {
      "text/plain": [
       "[164, 163, 164, 164, 163, 164, 163, 162, 163, 162, 163]"
      ]
     },
     "execution_count": 18,
     "metadata": {},
     "output_type": "execute_result"
    }
   ],
   "source": [
    "[len(tslearnig_id[i]) for i in xrange(11)]"
   ]
  },
  {
   "cell_type": "code",
   "execution_count": 19,
   "metadata": {
    "collapsed": false,
    "scrolled": true
   },
   "outputs": [
    {
     "name": "stdout",
     "output_type": "stream",
     "text": [
      "0\n",
      "1\n",
      "2\n",
      "3\n",
      "4\n",
      "5\n",
      "6\n",
      "7\n",
      "8\n",
      "9\n",
      "10\n"
     ]
    }
   ],
   "source": [
    "result = np.zeros((len(Test.temperVec()),))\n",
    "for i in xrange(11):\n",
    "    print i\n",
    "    result[tslearnig_id[i]] = clf[i].predict(tstempers_place[i])"
   ]
  },
  {
   "cell_type": "code",
   "execution_count": 20,
   "metadata": {
    "collapsed": false
   },
   "outputs": [
    {
     "data": {
      "text/plain": [
       "0.090925250096985932"
      ]
     },
     "execution_count": 20,
     "metadata": {},
     "output_type": "execute_result"
    }
   ],
   "source": [
    "result[360]"
   ]
  },
  {
   "cell_type": "code",
   "execution_count": 21,
   "metadata": {
    "collapsed": true
   },
   "outputs": [],
   "source": [
    "tsp_result = np.loadtxt(\"../result/eachPlace_0.03083.dat\")"
   ]
  },
  {
   "cell_type": "code",
   "execution_count": 23,
   "metadata": {
    "collapsed": false
   },
   "outputs": [
    {
     "data": {
      "text/plain": [
       "-0.12392710630000001"
      ]
     },
     "execution_count": 23,
     "metadata": {},
     "output_type": "execute_result"
    }
   ],
   "source": [
    "tsp_result[359]"
   ]
  },
  {
   "cell_type": "code",
   "execution_count": 25,
   "metadata": {
    "collapsed": true
   },
   "outputs": [],
   "source": [
    "for edge in edges:\n",
    "    result[edge] = tsp_result[edge] "
   ]
  },
  {
   "cell_type": "code",
   "execution_count": 35,
   "metadata": {
    "collapsed": true
   },
   "outputs": [],
   "source": [
    "np.savetxt(\"../result/sub.dat\", result, fmt='%.10f')"
   ]
  },
  {
   "cell_type": "code",
   "execution_count": null,
   "metadata": {
    "collapsed": true
   },
   "outputs": [],
   "source": []
  },
  {
   "cell_type": "code",
   "execution_count": 36,
   "metadata": {
    "collapsed": false
   },
   "outputs": [
    {
     "data": {
      "text/plain": [
       "0.25494819229527271"
      ]
     },
     "execution_count": 36,
     "metadata": {},
     "output_type": "execute_result"
    }
   ],
   "source": [
    "result[4]"
   ]
  },
  {
   "cell_type": "code",
   "execution_count": 30,
   "metadata": {
    "collapsed": false
   },
   "outputs": [
    {
     "data": {
      "text/plain": [
       "[359, 719, 1079, 1439, 1799]"
      ]
     },
     "execution_count": 30,
     "metadata": {},
     "output_type": "execute_result"
    }
   ],
   "source": [
    "edges"
   ]
  },
  {
   "cell_type": "markdown",
   "metadata": {},
   "source": [
    "## making preprocessing (temperWVec) to change before-after-data"
   ]
  },
  {
   "cell_type": "code",
   "execution_count": 263,
   "metadata": {
    "collapsed": false
   },
   "outputs": [],
   "source": [
    "yearnum = 5\n",
    "placenum = len(Train.TemperPlaceId)\n",
    "datasize_year = 360\n",
    "stk = np.array([])\n",
    "for n in xrange(yearnum):\n",
    "    start = datasize_year*n\n",
    "    end = datasize_year*(n+1) -1\n",
    "    tempers_year = Train.Temperature.loc[start:end,  ['place%d' % i for i in xrange(placenum)]].values\n",
    "    for i in xrange(datasize_year-1):\n",
    "        vec = np.r_[tempers_year[i],tempers_year[i+1]]\n",
    "        stk = np.append(stk, vec)\n",
    "    last = np.append(tempers_year[datasize_year-1],np.zeros((placenum)))\n",
    "    stk = np.append(stk, last)\n",
    "result = stk.reshape(datasize_year*5, placenum*2)"
   ]
  },
  {
   "cell_type": "code",
   "execution_count": 274,
   "metadata": {
    "collapsed": false
   },
   "outputs": [
    {
     "data": {
      "text/plain": [
       "(array([-0.183283, -0.183283, -0.211585, -0.243032, -0.132969, -0.192717,\n",
       "        -0.085799, -0.098378, -0.123535, -0.170705, -0.189573,  0.      ,\n",
       "         0.      ,  0.      ,  0.      ,  0.      ,  0.      ,  0.      ,\n",
       "         0.      ,  0.      ,  0.      ,  0.      ]),\n",
       " array([-0.199007, -0.195862, -0.2619  , -0.25561 , -0.158126, -0.224164,\n",
       "        -0.117246, -0.098378, -0.110956, -0.224164, -0.236742,  0.      ,\n",
       "         0.      ,  0.      ,  0.      ,  0.      ,  0.      ,  0.      ,\n",
       "         0.      ,  0.      ,  0.      ,  0.      ]),\n",
       " array([-0.16756 , -0.208441, -0.21473 , -0.202151, -0.16756 , -0.170705,\n",
       "        -0.117246, -0.129824, -0.151837, -0.173849, -0.217874,  0.      ,\n",
       "         0.      ,  0.      ,  0.      ,  0.      ,  0.      ,  0.      ,\n",
       "         0.      ,  0.      ,  0.      ,  0.      ]),\n",
       " array([-0.148692, -0.161271, -0.173849, -0.180139, -0.145547, -0.151837,\n",
       "        -0.136113, -0.132969, -0.129824, -0.151837, -0.180139,  0.      ,\n",
       "         0.      ,  0.      ,  0.      ,  0.      ,  0.      ,  0.      ,\n",
       "         0.      ,  0.      ,  0.      ,  0.      ]),\n",
       " array([-0.076365, -0.12039 , -0.12039 , -0.129824, -0.098378, -0.098378,\n",
       "        -0.076365, -0.048063, -0.066931, -0.095233, -0.148692,  0.      ,\n",
       "         0.      ,  0.      ,  0.      ,  0.      ,  0.      ,  0.      ,\n",
       "         0.      ,  0.      ,  0.      ,  0.      ]))"
      ]
     },
     "execution_count": 274,
     "metadata": {},
     "output_type": "execute_result"
    }
   ],
   "source": [
    "result[359], result[719], result[1079],result[1439], result[1799]"
   ]
  }
 ],
 "metadata": {
  "kernelspec": {
   "display_name": "Python 2",
   "language": "python",
   "name": "python2"
  },
  "language_info": {
   "codemirror_mode": {
    "name": "ipython",
    "version": 2
   },
   "file_extension": ".py",
   "mimetype": "text/x-python",
   "name": "python",
   "nbconvert_exporter": "python",
   "pygments_lexer": "ipython2",
   "version": "2.7.9"
  }
 },
 "nbformat": 4,
 "nbformat_minor": 0
}
