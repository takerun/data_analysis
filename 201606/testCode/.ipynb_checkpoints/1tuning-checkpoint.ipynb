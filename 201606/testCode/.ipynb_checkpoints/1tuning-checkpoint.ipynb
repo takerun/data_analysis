{
 "cells": [
  {
   "cell_type": "code",
   "execution_count": 1,
   "metadata": {
    "collapsed": true
   },
   "outputs": [],
   "source": [
    "import numpy as np\n",
    "import pandas as pd\n",
    "import matplotlib.pyplot as plt"
   ]
  },
  {
   "cell_type": "code",
   "execution_count": 2,
   "metadata": {
    "collapsed": true
   },
   "outputs": [],
   "source": [
    "PREC_TRAIN = \"../future-temparture-prediction/Precipitation_Train_Feature.tsv\"\n",
    "SUN_TRAIN = \"../future-temparture-prediction/SunDuration_Train_Feature.tsv\"\n",
    "TEMPERA_TRAIN = \"../future-temparture-prediction/Temperature_Train_Feature.tsv\"\n",
    "TARGET_TRAIN = \"../future-temparture-prediction/Temperature_Train_Target.dat.tsv\""
   ]
  },
  {
   "cell_type": "code",
   "execution_count": 3,
   "metadata": {
    "collapsed": true
   },
   "outputs": [],
   "source": [
    "data_train_feature = pd.read_csv(TEMPERA_TRAIN, sep='\\t')"
   ]
  },
  {
   "cell_type": "code",
   "execution_count": 4,
   "metadata": {
    "collapsed": false
   },
   "outputs": [],
   "source": [
    "X = data_train_feature.loc[:, ['place%d' % i for i in range(11)]].values\n",
    "y = np.loadtxt(TARGET_TRAIN)"
   ]
  },
  {
   "cell_type": "code",
   "execution_count": 5,
   "metadata": {
    "collapsed": true
   },
   "outputs": [],
   "source": [
    "from sklearn.preprocessing import Imputer\n",
    "imp = Imputer(strategy='mean', axis=0)\n",
    "imp.fit(X)\n",
    "X = imp.transform(X)"
   ]
  },
  {
   "cell_type": "code",
   "execution_count": 6,
   "metadata": {
    "collapsed": true
   },
   "outputs": [],
   "source": [
    "from sklearn.linear_model import Ridge\n",
    "from sklearn.metrics import mean_squared_error\n",
    "from sklearn import grid_search\n",
    "parameters = {'alpha':[float(i)/100 for i in xrange(0,101)]}\n",
    "clf = grid_search.GridSearchCV(Ridge(), parameters, cv=10, scoring='mean_squared_error')"
   ]
  },
  {
   "cell_type": "code",
   "execution_count": 7,
   "metadata": {
    "collapsed": false
   },
   "outputs": [
    {
     "data": {
      "text/plain": [
       "GridSearchCV(cv=None, error_score='raise',\n",
       "       estimator=Ridge(alpha=1.0, copy_X=True, fit_intercept=True, max_iter=None,\n",
       "   normalize=False, random_state=None, solver='auto', tol=0.001),\n",
       "       fit_params={}, iid=True, n_jobs=1,\n",
       "       param_grid={'alpha': [0.0, 0.01, 0.02, 0.03, 0.04, 0.05, 0.06, 0.07, 0.08, 0.09, 0.1, 0.11, 0.12, 0.13, 0.14, 0.15, 0.16, 0.17, 0.18, 0.19, 0.2, 0.21, 0.22, 0.23, 0.24, 0.25, 0.26, 0.27, 0.28, 0.29, 0.3, 0.31, 0.32, 0.33, 0.34, 0.35, 0.36, 0.37, 0.38, 0.39, 0.4, 0.41, 0.42, 0.43, 0.44, 0.45, 0.46, 0...0.84, 0.85, 0.86, 0.87, 0.88, 0.89, 0.9, 0.91, 0.92, 0.93, 0.94, 0.95, 0.96, 0.97, 0.98, 0.99, 1.0]},\n",
       "       pre_dispatch='2*n_jobs', refit=True, scoring='mean_squared_error',\n",
       "       verbose=0)"
      ]
     },
     "execution_count": 7,
     "metadata": {},
     "output_type": "execute_result"
    }
   ],
   "source": [
    "clf.fit(X, y)"
   ]
  },
  {
   "cell_type": "code",
   "execution_count": 8,
   "metadata": {
    "collapsed": false
   },
   "outputs": [
    {
     "data": {
      "text/plain": [
       "Ridge(alpha=0.12, copy_X=True, fit_intercept=True, max_iter=None,\n",
       "   normalize=False, random_state=None, solver='auto', tol=0.001)"
      ]
     },
     "execution_count": 8,
     "metadata": {},
     "output_type": "execute_result"
    }
   ],
   "source": [
    "clf.best_estimator_"
   ]
  },
  {
   "cell_type": "code",
   "execution_count": 9,
   "metadata": {
    "collapsed": false
   },
   "outputs": [
    {
     "data": {
      "text/plain": [
       "[mean: -0.00288, std: 0.00006, params: {'alpha': 0.0},\n",
       " mean: -0.00288, std: 0.00006, params: {'alpha': 0.01},\n",
       " mean: -0.00288, std: 0.00006, params: {'alpha': 0.02},\n",
       " mean: -0.00288, std: 0.00006, params: {'alpha': 0.03},\n",
       " mean: -0.00288, std: 0.00006, params: {'alpha': 0.04},\n",
       " mean: -0.00288, std: 0.00006, params: {'alpha': 0.05},\n",
       " mean: -0.00288, std: 0.00006, params: {'alpha': 0.06},\n",
       " mean: -0.00288, std: 0.00006, params: {'alpha': 0.07},\n",
       " mean: -0.00287, std: 0.00006, params: {'alpha': 0.08},\n",
       " mean: -0.00287, std: 0.00006, params: {'alpha': 0.09},\n",
       " mean: -0.00287, std: 0.00006, params: {'alpha': 0.1},\n",
       " mean: -0.00287, std: 0.00006, params: {'alpha': 0.11},\n",
       " mean: -0.00287, std: 0.00006, params: {'alpha': 0.12},\n",
       " mean: -0.00287, std: 0.00006, params: {'alpha': 0.13},\n",
       " mean: -0.00287, std: 0.00006, params: {'alpha': 0.14},\n",
       " mean: -0.00287, std: 0.00006, params: {'alpha': 0.15},\n",
       " mean: -0.00287, std: 0.00006, params: {'alpha': 0.16},\n",
       " mean: -0.00287, std: 0.00006, params: {'alpha': 0.17},\n",
       " mean: -0.00288, std: 0.00006, params: {'alpha': 0.18},\n",
       " mean: -0.00288, std: 0.00006, params: {'alpha': 0.19},\n",
       " mean: -0.00288, std: 0.00006, params: {'alpha': 0.2},\n",
       " mean: -0.00288, std: 0.00006, params: {'alpha': 0.21},\n",
       " mean: -0.00288, std: 0.00006, params: {'alpha': 0.22},\n",
       " mean: -0.00288, std: 0.00006, params: {'alpha': 0.23},\n",
       " mean: -0.00288, std: 0.00006, params: {'alpha': 0.24},\n",
       " mean: -0.00288, std: 0.00006, params: {'alpha': 0.25},\n",
       " mean: -0.00288, std: 0.00006, params: {'alpha': 0.26},\n",
       " mean: -0.00288, std: 0.00006, params: {'alpha': 0.27},\n",
       " mean: -0.00288, std: 0.00006, params: {'alpha': 0.28},\n",
       " mean: -0.00288, std: 0.00006, params: {'alpha': 0.29},\n",
       " mean: -0.00288, std: 0.00006, params: {'alpha': 0.3},\n",
       " mean: -0.00288, std: 0.00006, params: {'alpha': 0.31},\n",
       " mean: -0.00288, std: 0.00006, params: {'alpha': 0.32},\n",
       " mean: -0.00288, std: 0.00006, params: {'alpha': 0.33},\n",
       " mean: -0.00289, std: 0.00006, params: {'alpha': 0.34},\n",
       " mean: -0.00289, std: 0.00006, params: {'alpha': 0.35},\n",
       " mean: -0.00289, std: 0.00006, params: {'alpha': 0.36},\n",
       " mean: -0.00289, std: 0.00006, params: {'alpha': 0.37},\n",
       " mean: -0.00289, std: 0.00006, params: {'alpha': 0.38},\n",
       " mean: -0.00289, std: 0.00006, params: {'alpha': 0.39},\n",
       " mean: -0.00289, std: 0.00006, params: {'alpha': 0.4},\n",
       " mean: -0.00289, std: 0.00006, params: {'alpha': 0.41},\n",
       " mean: -0.00289, std: 0.00006, params: {'alpha': 0.42},\n",
       " mean: -0.00289, std: 0.00006, params: {'alpha': 0.43},\n",
       " mean: -0.00289, std: 0.00006, params: {'alpha': 0.44},\n",
       " mean: -0.00289, std: 0.00006, params: {'alpha': 0.45},\n",
       " mean: -0.00290, std: 0.00006, params: {'alpha': 0.46},\n",
       " mean: -0.00290, std: 0.00007, params: {'alpha': 0.47},\n",
       " mean: -0.00290, std: 0.00007, params: {'alpha': 0.48},\n",
       " mean: -0.00290, std: 0.00007, params: {'alpha': 0.49},\n",
       " mean: -0.00290, std: 0.00007, params: {'alpha': 0.5},\n",
       " mean: -0.00290, std: 0.00007, params: {'alpha': 0.51},\n",
       " mean: -0.00290, std: 0.00007, params: {'alpha': 0.52},\n",
       " mean: -0.00290, std: 0.00007, params: {'alpha': 0.53},\n",
       " mean: -0.00290, std: 0.00007, params: {'alpha': 0.54},\n",
       " mean: -0.00290, std: 0.00007, params: {'alpha': 0.55},\n",
       " mean: -0.00290, std: 0.00007, params: {'alpha': 0.56},\n",
       " mean: -0.00291, std: 0.00007, params: {'alpha': 0.57},\n",
       " mean: -0.00291, std: 0.00007, params: {'alpha': 0.58},\n",
       " mean: -0.00291, std: 0.00007, params: {'alpha': 0.59},\n",
       " mean: -0.00291, std: 0.00007, params: {'alpha': 0.6},\n",
       " mean: -0.00291, std: 0.00007, params: {'alpha': 0.61},\n",
       " mean: -0.00291, std: 0.00007, params: {'alpha': 0.62},\n",
       " mean: -0.00291, std: 0.00007, params: {'alpha': 0.63},\n",
       " mean: -0.00291, std: 0.00007, params: {'alpha': 0.64},\n",
       " mean: -0.00291, std: 0.00007, params: {'alpha': 0.65},\n",
       " mean: -0.00291, std: 0.00007, params: {'alpha': 0.66},\n",
       " mean: -0.00291, std: 0.00007, params: {'alpha': 0.67},\n",
       " mean: -0.00292, std: 0.00007, params: {'alpha': 0.68},\n",
       " mean: -0.00292, std: 0.00007, params: {'alpha': 0.69},\n",
       " mean: -0.00292, std: 0.00007, params: {'alpha': 0.7},\n",
       " mean: -0.00292, std: 0.00007, params: {'alpha': 0.71},\n",
       " mean: -0.00292, std: 0.00007, params: {'alpha': 0.72},\n",
       " mean: -0.00292, std: 0.00007, params: {'alpha': 0.73},\n",
       " mean: -0.00292, std: 0.00007, params: {'alpha': 0.74},\n",
       " mean: -0.00292, std: 0.00007, params: {'alpha': 0.75},\n",
       " mean: -0.00292, std: 0.00007, params: {'alpha': 0.76},\n",
       " mean: -0.00292, std: 0.00007, params: {'alpha': 0.77},\n",
       " mean: -0.00292, std: 0.00007, params: {'alpha': 0.78},\n",
       " mean: -0.00293, std: 0.00007, params: {'alpha': 0.79},\n",
       " mean: -0.00293, std: 0.00007, params: {'alpha': 0.8},\n",
       " mean: -0.00293, std: 0.00007, params: {'alpha': 0.81},\n",
       " mean: -0.00293, std: 0.00007, params: {'alpha': 0.82},\n",
       " mean: -0.00293, std: 0.00007, params: {'alpha': 0.83},\n",
       " mean: -0.00293, std: 0.00007, params: {'alpha': 0.84},\n",
       " mean: -0.00293, std: 0.00007, params: {'alpha': 0.85},\n",
       " mean: -0.00293, std: 0.00007, params: {'alpha': 0.86},\n",
       " mean: -0.00293, std: 0.00007, params: {'alpha': 0.87},\n",
       " mean: -0.00293, std: 0.00007, params: {'alpha': 0.88},\n",
       " mean: -0.00293, std: 0.00007, params: {'alpha': 0.89},\n",
       " mean: -0.00294, std: 0.00007, params: {'alpha': 0.9},\n",
       " mean: -0.00294, std: 0.00007, params: {'alpha': 0.91},\n",
       " mean: -0.00294, std: 0.00007, params: {'alpha': 0.92},\n",
       " mean: -0.00294, std: 0.00007, params: {'alpha': 0.93},\n",
       " mean: -0.00294, std: 0.00007, params: {'alpha': 0.94},\n",
       " mean: -0.00294, std: 0.00007, params: {'alpha': 0.95},\n",
       " mean: -0.00294, std: 0.00007, params: {'alpha': 0.96},\n",
       " mean: -0.00294, std: 0.00007, params: {'alpha': 0.97},\n",
       " mean: -0.00294, std: 0.00007, params: {'alpha': 0.98},\n",
       " mean: -0.00294, std: 0.00007, params: {'alpha': 0.99},\n",
       " mean: -0.00294, std: 0.00007, params: {'alpha': 1.0}]"
      ]
     },
     "execution_count": 9,
     "metadata": {},
     "output_type": "execute_result"
    }
   ],
   "source": [
    "clf.grid_scores_"
   ]
  },
  {
   "cell_type": "code",
   "execution_count": null,
   "metadata": {
    "collapsed": true
   },
   "outputs": [],
   "source": []
  },
  {
   "cell_type": "code",
   "execution_count": null,
   "metadata": {
    "collapsed": true
   },
   "outputs": [],
   "source": []
  },
  {
   "cell_type": "code",
   "execution_count": 57,
   "metadata": {
    "collapsed": false
   },
   "outputs": [
    {
     "data": {
      "text/plain": [
       "Ridge(alpha=0.1, copy_X=True, fit_intercept=True, max_iter=None,\n",
       "   normalize=False, random_state=None, solver='auto', tol=0.001)"
      ]
     },
     "execution_count": 57,
     "metadata": {},
     "output_type": "execute_result"
    }
   ],
   "source": [
    "reg_submit = Ridge(alpha=0.1)\n",
    "reg_submit.fit(X, y)"
   ]
  },
  {
   "cell_type": "code",
   "execution_count": 59,
   "metadata": {
    "collapsed": false
   },
   "outputs": [],
   "source": [
    "TEMPERATURE_TEST_FEATURE_PATH = '../future-temparture-prediction/Temperature_Test_Feature.tsv'\n",
    "data_test_feature = pd.read_csv(TEMPERATURE_TEST_FEATURE_PATH, sep='\\t')\n",
    "X_test = data_test_feature.loc[:, ['place%d' % i for i in range(11)]].values\n",
    "X_test = imp.transform(X_test)"
   ]
  },
  {
   "cell_type": "code",
   "execution_count": 60,
   "metadata": {
    "collapsed": true
   },
   "outputs": [],
   "source": [
    "y_test_pred = reg_submit.predict(X_test)\n",
    "SUBMIT_PATH = 'submission.dat'\n",
    "np.savetxt(SUBMIT_PATH, y_test_pred, fmt='%.10f')"
   ]
  },
  {
   "cell_type": "code",
   "execution_count": null,
   "metadata": {
    "collapsed": true
   },
   "outputs": [],
   "source": []
  }
 ],
 "metadata": {
  "kernelspec": {
   "display_name": "Python 2",
   "language": "python",
   "name": "python2"
  },
  "language_info": {
   "codemirror_mode": {
    "name": "ipython",
    "version": 2
   },
   "file_extension": ".py",
   "mimetype": "text/x-python",
   "name": "python",
   "nbconvert_exporter": "python",
   "pygments_lexer": "ipython2",
   "version": "2.7.9"
  }
 },
 "nbformat": 4,
 "nbformat_minor": 0
}
