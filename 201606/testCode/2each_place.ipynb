{
 "cells": [
  {
   "cell_type": "code",
   "execution_count": 1,
   "metadata": {
    "collapsed": true
   },
   "outputs": [],
   "source": [
    "import numpy as np\n",
    "import pandas as pd\n",
    "import matplotlib.pyplot as plt\n",
    "\n",
    "TRAIN_TARGET = \"../future-temparture-prediction/Temperature_Train_Target.dat.tsv\""
   ]
  },
  {
   "cell_type": "code",
   "execution_count": 2,
   "metadata": {
    "collapsed": false
   },
   "outputs": [],
   "source": [
    "%run ../script/prepocessing.py\n",
    "Train = TemperatureData('train')\n",
    "y = np.loadtxt(TRAIN_TARGET)"
   ]
  },
  {
   "cell_type": "code",
   "execution_count": 3,
   "metadata": {
    "collapsed": false,
    "scrolled": true
   },
   "outputs": [
    {
     "data": {
      "text/html": [
       "<div>\n",
       "<table border=\"1\" class=\"dataframe\">\n",
       "  <thead>\n",
       "    <tr style=\"text-align: right;\">\n",
       "      <th></th>\n",
       "      <th>year</th>\n",
       "      <th>day</th>\n",
       "      <th>hour</th>\n",
       "      <th>place0</th>\n",
       "      <th>place1</th>\n",
       "      <th>place2</th>\n",
       "      <th>place3</th>\n",
       "      <th>place4</th>\n",
       "      <th>place5</th>\n",
       "      <th>place6</th>\n",
       "      <th>place7</th>\n",
       "      <th>place8</th>\n",
       "      <th>place9</th>\n",
       "      <th>place10</th>\n",
       "      <th>targetplaceid</th>\n",
       "    </tr>\n",
       "  </thead>\n",
       "  <tbody>\n",
       "    <tr>\n",
       "      <th>0</th>\n",
       "      <td>0</td>\n",
       "      <td>0</td>\n",
       "      <td>0</td>\n",
       "      <td>-0.048063</td>\n",
       "      <td>-0.085799</td>\n",
       "      <td>-0.095233</td>\n",
       "      <td>-0.101522</td>\n",
       "      <td>-0.032340</td>\n",
       "      <td>-0.079510</td>\n",
       "      <td>0.017975</td>\n",
       "      <td>0.014830</td>\n",
       "      <td>0.002251</td>\n",
       "      <td>-0.073220</td>\n",
       "      <td>-0.082654</td>\n",
       "      <td>0</td>\n",
       "    </tr>\n",
       "    <tr>\n",
       "      <th>1</th>\n",
       "      <td>0</td>\n",
       "      <td>0</td>\n",
       "      <td>2</td>\n",
       "      <td>-0.054352</td>\n",
       "      <td>-0.082654</td>\n",
       "      <td>-0.085799</td>\n",
       "      <td>-0.082654</td>\n",
       "      <td>-0.035485</td>\n",
       "      <td>-0.063786</td>\n",
       "      <td>0.021119</td>\n",
       "      <td>0.011685</td>\n",
       "      <td>-0.004038</td>\n",
       "      <td>-0.066931</td>\n",
       "      <td>-0.076365</td>\n",
       "      <td>1</td>\n",
       "    </tr>\n",
       "  </tbody>\n",
       "</table>\n",
       "</div>"
      ],
      "text/plain": [
       "   year  day  hour    place0    place1    place2    place3    place4  \\\n",
       "0     0    0     0 -0.048063 -0.085799 -0.095233 -0.101522 -0.032340   \n",
       "1     0    0     2 -0.054352 -0.082654 -0.085799 -0.082654 -0.035485   \n",
       "\n",
       "     place5    place6    place7    place8    place9   place10  targetplaceid  \n",
       "0 -0.079510  0.017975  0.014830  0.002251 -0.073220 -0.082654              0  \n",
       "1 -0.063786  0.021119  0.011685 -0.004038 -0.066931 -0.076365              1  "
      ]
     },
     "execution_count": 3,
     "metadata": {},
     "output_type": "execute_result"
    }
   ],
   "source": [
    "Train.Temperature.head(2)"
   ]
  },
  {
   "cell_type": "code",
   "execution_count": 4,
   "metadata": {
    "collapsed": false,
    "scrolled": true
   },
   "outputs": [],
   "source": [
    "tempers = Train.temperVecPerPlace()"
   ]
  },
  {
   "cell_type": "code",
   "execution_count": 5,
   "metadata": {
    "collapsed": true
   },
   "outputs": [],
   "source": [
    "supervisers = [y[Train.TemperPlaceId[i]] for i in xrange(11)]"
   ]
  },
  {
   "cell_type": "code",
   "execution_count": 6,
   "metadata": {
    "collapsed": true
   },
   "outputs": [],
   "source": [
    "from sklearn.linear_model import Ridge\n",
    "from sklearn.metrics import mean_squared_error\n",
    "from sklearn import grid_search\n",
    "parameters = {'alpha':[float(i)/100 for i in xrange(0,101)]}\n",
    "clf = [grid_search.GridSearchCV(Ridge(), parameters, cv=10, scoring='mean_squared_error') for i in xrange(11)]"
   ]
  },
  {
   "cell_type": "code",
   "execution_count": 22,
   "metadata": {
    "collapsed": false,
    "scrolled": true
   },
   "outputs": [
    {
     "name": "stdout",
     "output_type": "stream",
     "text": [
      "0\n",
      "[ 0.33916252  0.28026628 -0.0971565   0.30133549  0.18355247]\n",
      "1\n",
      "[ 0.44388629 -0.00636849 -0.06867563  0.28756705  0.34207914]\n",
      "2\n",
      "[  6.77637301e-01   3.92867194e-04  -5.31650364e-01   7.30946319e-01\n",
      "   1.89871714e-01]\n",
      "3\n",
      "[ 0.90981253  0.31083143 -0.53965763  0.14285756  0.06838379]\n",
      "4\n",
      "[ 0.67099005  0.42780153 -0.08040739  0.11053821 -0.05124318]\n",
      "5\n",
      "[ 0.71048065  0.32485156 -0.25494148  0.32261568  0.02910275]\n",
      "6\n",
      "[ 0.42631271  0.69357265 -0.29297082  0.44711704 -0.0680643 ]\n",
      "7\n",
      "[ 0.21824225  0.28257786  0.33410651  0.21714424  0.05851721]\n",
      "8\n",
      "[ 0.35675896  0.18905654 -0.26819105  0.81854003  0.00506602]\n",
      "9\n",
      "[ 0.48951819  0.31156586 -0.44687193  0.34187551  0.45131239]\n",
      "10\n",
      "[ 0.31849768  0.2928818  -0.47944042  0.10072343  0.74858921]\n"
     ]
    }
   ],
   "source": [
    "for i in xrange(11):\n",
    "    print i\n",
    "    x = tempers[i][:,mask]\n",
    "    clf[i].fit(x, supervisers[i])\n",
    "    print clf[i].predict(np.identity(len(mask)))"
   ]
  },
  {
   "cell_type": "code",
   "execution_count": 23,
   "metadata": {
    "collapsed": true
   },
   "outputs": [],
   "source": [
    "Test = TemperatureData('test')\n",
    "tsvec = Test.temperVecPerPlace()"
   ]
  },
  {
   "cell_type": "code",
   "execution_count": 9,
   "metadata": {
    "collapsed": true
   },
   "outputs": [],
   "source": [
    "result = np.ndarray(shape=(len(Test.temperVec()),))\n",
    "for i in xrange(11):\n",
    "    result[Test.TemperPlaceId[i]] = clf[i].predict(tsvec[i])"
   ]
  },
  {
   "cell_type": "code",
   "execution_count": 24,
   "metadata": {
    "collapsed": false
   },
   "outputs": [
    {
     "name": "stdout",
     "output_type": "stream",
     "text": [
      "0 : -0.00105241965194\n",
      "1 : -0.00216976217137\n",
      "2 : -0.00203223908768\n",
      "3 : -0.00104373869802\n",
      "4 : -0.00105188182639\n",
      "5 : -0.000894900978721\n",
      "6 : -0.00114243325075\n",
      "7 : -0.000579474384294\n",
      "8 : -0.00115068542942\n",
      "9 : -0.00130814439434\n",
      "10 : -0.00101392801659\n"
     ]
    }
   ],
   "source": [
    "for i in xrange(11):\n",
    "    print i, \":\", clf[i].best_score_"
   ]
  },
  {
   "cell_type": "code",
   "execution_count": 11,
   "metadata": {
    "collapsed": false
   },
   "outputs": [
    {
     "name": "stdout",
     "output_type": "stream",
     "text": [
      "0.0304528607928\n"
     ]
    }
   ],
   "source": [
    "s = 0\n",
    "for i in xrange(11):\n",
    "    s += -1 * clf[i].best_score_\n",
    "import math\n",
    "print math.sqrt(s/11.0)"
   ]
  },
  {
   "cell_type": "code",
   "execution_count": 5,
   "metadata": {
    "collapsed": false
   },
   "outputs": [],
   "source": [
    "TSP = Train.TSPVecPerPlace()"
   ]
  },
  {
   "cell_type": "code",
   "execution_count": 6,
   "metadata": {
    "collapsed": false
   },
   "outputs": [
    {
     "data": {
      "text/plain": [
       "(164, 33)"
      ]
     },
     "execution_count": 6,
     "metadata": {},
     "output_type": "execute_result"
    }
   ],
   "source": [
    "TSP[0].shape"
   ]
  },
  {
   "cell_type": "code",
   "execution_count": 9,
   "metadata": {
    "collapsed": true
   },
   "outputs": [],
   "source": [
    "supervisers = [y[Train.TemperPlaceId[i]] for i in xrange(11)]"
   ]
  },
  {
   "cell_type": "code",
   "execution_count": 10,
   "metadata": {
    "collapsed": true
   },
   "outputs": [],
   "source": [
    "from sklearn.linear_model import Ridge\n",
    "from sklearn.metrics import mean_squared_error\n",
    "from sklearn import grid_search\n",
    "parameters = {'alpha':[float(i)/100 for i in xrange(0,101)]}\n",
    "clf = [grid_search.GridSearchCV(Ridge(), parameters, cv=10, scoring='mean_squared_error') for i in xrange(11)]"
   ]
  },
  {
   "cell_type": "code",
   "execution_count": 11,
   "metadata": {
    "collapsed": false,
    "scrolled": true
   },
   "outputs": [
    {
     "name": "stdout",
     "output_type": "stream",
     "text": [
      "0\n",
      "[ 0.54392486  0.07958291  0.21778347  0.30753395  0.02009961 -0.12784141\n",
      "  0.2138663  -0.18895367  0.10323691 -0.00072331 -0.03326375 -0.01871107\n",
      "  0.07743051  0.02748946 -0.00610162  0.00521353  0.02599331  0.02156556\n",
      "  0.03410737  0.03468113 -0.02080148  0.05174167 -0.05706094  0.07654863\n",
      " -0.03180542 -0.10675492 -0.02055972  0.05216364  0.04527378 -0.05058708\n",
      " -0.03025986 -0.06508807  0.18986454]\n",
      "1\n",
      "[-0.12445626  0.75701154  0.22986587  0.31751311 -0.07757862 -0.03563679\n",
      "  0.12357556 -0.13046524  0.04111723 -0.03439344  0.07284753 -0.03708903\n",
      "  0.03780882  0.02090154  0.05644298  0.02290795 -0.00835598  0.04959965\n",
      " -0.04579725  0.11659623 -0.00197001  0.02953146  0.07933869  0.0025022\n",
      " -0.01513115  0.07158678 -0.00093392  0.0256984  -0.04297887 -0.0848901\n",
      " -0.08921364 -0.02037355  0.10912271]\n",
      "2\n",
      "[-0.02117674  0.12768783  0.69183832  0.419501   -0.09102731 -0.02553318\n",
      "  0.11559948 -0.19135006  0.06956823 -0.01213402  0.02825165 -0.02461299\n",
      "  0.05106626 -0.01256013  0.05255092  0.0438147  -0.02212122  0.00993611\n",
      "  0.08696248  0.04470321 -0.06051453  0.07955525  0.01687607  0.01725392\n",
      "  0.02898353  0.02681864 -0.00956578  0.01497837 -0.00128073 -0.0604603\n",
      "  0.03810669  0.01615207 -0.02680749]\n",
      "3\n",
      "[-0.08154133 -0.08855585  0.14589601  0.67367594 -0.0475055  -0.03928978\n",
      "  0.20867294 -0.19817243  0.09786623 -0.01439853  0.07972237 -0.09307009\n",
      "  0.09817832 -0.01510304  0.0018275  -0.0340524  -0.06055646  0.0303621\n",
      "  0.00499538 -0.06039072 -0.04806235  0.01734156 -0.08485532 -0.01244825\n",
      " -0.04018497  0.01401504 -0.02034134  0.00245057  0.0179117   0.03256471\n",
      "  0.02053306  0.06460054  0.03620836]\n",
      "4\n",
      "[-0.07924329 -0.0425994   0.14545787  0.37442158  0.46398932  0.22635724\n",
      "  0.20089324 -0.11556557  0.08643405 -0.06558931  0.04240407 -0.03473924\n",
      "  0.0310333   0.01527504  0.11441789 -0.0125903   0.05671299  0.02857263\n",
      " -0.018983    0.06618906  0.0092193   0.05383282  0.02526227 -0.0027652\n",
      "  0.04100874  0.05311216  0.12994039 -0.04376129 -0.02130185 -0.0435991\n",
      " -0.07692273  0.03525883  0.00370053]\n",
      "5\n",
      "[ 0.07361106  0.07870343  0.13380475  0.25152115  0.12091067  0.21393856\n",
      "  0.07360013 -0.02299646  0.09450166  0.01878485  0.03819349 -0.04197736\n",
      "  0.06446044 -0.00030046  0.00500203 -0.01149194  0.04628259  0.02789565\n",
      "  0.02208881  0.05855813 -0.01893769  0.00772244  0.00734748  0.02796446\n",
      "  0.01836692  0.0057944   0.0082804  -0.01921565  0.01170312  0.02241854\n",
      "  0.00346466  0.02342629  0.03250297]\n",
      "6\n",
      "[ 0.02365059  0.05376157  0.12695082  0.40792651  0.01210285  0.07222553\n",
      "  0.50861035  0.05915917  0.20677831 -0.05385985  0.06952951  0.00171367\n",
      "  0.07060589  0.07510627  0.06082729  0.03411076  0.04735423  0.04811465\n",
      "  0.08985263  0.09862815 -0.00873086  0.03870679  0.05082377  0.0796128\n",
      "  0.06599566  0.05738034 -0.0173408  -0.00073341  0.0337005   0.09771223\n",
      "  0.03794487  0.08417533  0.04417073]\n",
      "7\n",
      "[ 0.08274446  0.04670619  0.05194981  0.16168345  0.07026968  0.1037782\n",
      "  0.24481776  0.28964595  0.15439116  0.0606166   0.0334009   0.00447365\n",
      "  0.05241492  0.01813608  0.03974395  0.01478079  0.02567389  0.02232312\n",
      "  0.06537052  0.06029004  0.00979772  0.04564971 -0.00652047  0.0377512\n",
      "  0.01918522  0.01881285  0.03993339  0.04184342  0.0065981   0.00667205\n",
      "  0.00445478  0.0070677   0.04766994]\n",
      "8\n",
      "[ -1.34148881e-01   8.09632096e-02   2.96087584e-01   2.54261844e-01\n",
      "  -6.49557075e-02   5.40628453e-02   1.22166812e-01  -3.66649046e-02\n",
      "   7.19027079e-01   1.27519668e-03   5.30160921e-02  -1.59559458e-02\n",
      "   3.84628643e-02   7.75479948e-02   3.13242959e-02   7.30035799e-02\n",
      "   4.50140571e-04   5.59533711e-02   4.58121986e-02   1.05543934e-01\n",
      "  -5.91248735e-02   5.11785345e-02   1.08024354e-02   1.21450309e-01\n",
      "   3.83480873e-02   8.61751410e-02   1.59211257e-02   7.75911367e-02\n",
      "  -1.53042236e-01  -9.44219465e-02  -7.50173929e-03   3.35528648e-02\n",
      "   1.24576136e-01]\n",
      "9\n",
      "[-0.09697607  0.11396614  0.13507817  0.36434424  0.00729231 -0.13257585\n",
      "  0.2230288  -0.19537277  0.1340834   0.44238585  0.25865744 -0.00250546\n",
      "  0.08895347  0.04040156  0.04630044  0.00849788  0.06864665  0.00177461\n",
      "  0.05623166  0.04990251 -0.03212303  0.00718627 -0.10468856  0.04830407\n",
      " -0.00701652  0.11264178  0.00195515 -0.0135276   0.07063378  0.04874819\n",
      "  0.04676386  0.00951724  0.00949945]\n",
      "10\n",
      "[ -1.34329087e-01   1.02876739e-02  -2.34089703e-02   4.10844938e-01\n",
      "  -5.76474621e-02   1.65724624e-03   1.94742701e-01  -1.50920526e-01\n",
      "   2.80472875e-03   1.35407430e-02   6.97778745e-01  -1.78923780e-02\n",
      "   1.44807229e-02   3.42444264e-02   5.45637492e-05  -1.09502707e-02\n",
      "   1.95997028e-02  -3.14073131e-02   9.57172141e-03   6.47923142e-02\n",
      "  -1.95204003e-03   1.77016591e-02   1.72002130e-02  -7.09038570e-03\n",
      "  -1.30625872e-02   4.95050305e-02   4.59059768e-02   5.34413712e-02\n",
      "  -1.00591769e-01   4.60928428e-02   1.87889771e-02  -5.04134954e-02\n",
      "  -1.06978336e-02]\n"
     ]
    }
   ],
   "source": [
    "for i in xrange(11):\n",
    "    print i\n",
    "    clf[i].fit(TSP[i], supervisers[i])\n",
    "    print clf[i].predict(np.identity(33))"
   ]
  },
  {
   "cell_type": "code",
   "execution_count": 12,
   "metadata": {
    "collapsed": true
   },
   "outputs": [],
   "source": [
    "Test = TemperatureData('test')\n",
    "tspvec = Test.TSPVecPerPlace()"
   ]
  },
  {
   "cell_type": "code",
   "execution_count": 15,
   "metadata": {
    "collapsed": false
   },
   "outputs": [],
   "source": [
    "result = np.ndarray(shape=(len(Test.temperVec()),))\n",
    "for i in xrange(11):\n",
    "    result[Test.TemperPlaceId[i]] = clf[i].predict(tspvec[i])"
   ]
  },
  {
   "cell_type": "code",
   "execution_count": 16,
   "metadata": {
    "collapsed": false
   },
   "outputs": [
    {
     "data": {
      "text/plain": [
       "(1800,)"
      ]
     },
     "execution_count": 16,
     "metadata": {},
     "output_type": "execute_result"
    }
   ],
   "source": [
    "result.shape"
   ]
  },
  {
   "cell_type": "code",
   "execution_count": 17,
   "metadata": {
    "collapsed": false
   },
   "outputs": [],
   "source": [
    "np.savetxt(\"../result/sub.dat\", result, fmt='%.10f')"
   ]
  },
  {
   "cell_type": "code",
   "execution_count": 18,
   "metadata": {
    "collapsed": false
   },
   "outputs": [
    {
     "name": "stdout",
     "output_type": "stream",
     "text": [
      "0 : -0.000665426949251\n",
      "1 : -0.000950182472833\n",
      "2 : -0.000981704290296\n",
      "3 : -0.00107756073007\n",
      "4 : -0.000594147946519\n",
      "5 : -0.00100879799012\n",
      "6 : -0.00112037063434\n",
      "7 : -0.000669610258042\n",
      "8 : -0.000847290502859\n",
      "9 : -0.000934889711468\n",
      "10 : -0.00110910751202\n"
     ]
    }
   ],
   "source": [
    "for i in xrange(11):\n",
    "    print i, \":\", clf[i].best_score_"
   ]
  },
  {
   "cell_type": "code",
   "execution_count": 19,
   "metadata": {
    "collapsed": false
   },
   "outputs": [
    {
     "name": "stdout",
     "output_type": "stream",
     "text": [
      "0.0300893955917\n"
     ]
    }
   ],
   "source": [
    "s = 0\n",
    "for i in xrange(11):\n",
    "    s += -1 * clf[i].best_score_\n",
    "import math\n",
    "print math.sqrt(s/11.0)"
   ]
  },
  {
   "cell_type": "code",
   "execution_count": null,
   "metadata": {
    "collapsed": false
   },
   "outputs": [],
   "source": [
    "- 0.000680181523483 - 0.000891537297341 - 0.00124278373553 - 0.00107737795569 - 0.000638463439515 - 0.000873899810087 - 0.00102558901443 - 0.000603305923792 - 0.00104195722415 - 0.00114390321264 - 0.000982144898467"
   ]
  },
  {
   "cell_type": "code",
   "execution_count": 6,
   "metadata": {
    "collapsed": false
   },
   "outputs": [],
   "source": [
    "k = 0.000665426949251 + 0.000950182472833+0.000981704290296+0.00107756073007+0.000594147946519+0.00100879799012+0.00112037063434+0.000669610258042+0.000847290502859+0.000934889711468+0.00110910751202"
   ]
  },
  {
   "cell_type": "code",
   "execution_count": 9,
   "metadata": {
    "collapsed": false
   },
   "outputs": [
    {
     "data": {
      "text/plain": [
       "0.03008939559170911"
      ]
     },
     "execution_count": 9,
     "metadata": {},
     "output_type": "execute_result"
    }
   ],
   "source": [
    "import math\n",
    "math.sqrt(k/11.0)"
   ]
  },
  {
   "cell_type": "code",
   "execution_count": null,
   "metadata": {
    "collapsed": true
   },
   "outputs": [],
   "source": []
  }
 ],
 "metadata": {
  "kernelspec": {
   "display_name": "Python 2",
   "language": "python",
   "name": "python2"
  },
  "language_info": {
   "codemirror_mode": {
    "name": "ipython",
    "version": 2
   },
   "file_extension": ".py",
   "mimetype": "text/x-python",
   "name": "python",
   "nbconvert_exporter": "python",
   "pygments_lexer": "ipython2",
   "version": "2.7.9"
  }
 },
 "nbformat": 4,
 "nbformat_minor": 0
}
